{
 "cells": [
  {
   "cell_type": "markdown",
   "metadata": {
    "toc": true
   },
   "source": [
    "<h1>Index<span class=\"tocSkip\"></span></h1>\n",
    "<div class=\"toc\"><ul class=\"toc-item\"><li><span><a href=\"#Compress\" data-toc-modified-id=\"Compress-1\"><span class=\"toc-item-num\">1&nbsp;&nbsp;</span>Compress</a></span></li></ul></div>"
   ]
  },
  {
   "cell_type": "markdown",
   "metadata": {},
   "source": [
    "To extract other elements, change the FOLDER."
   ]
  },
  {
   "cell_type": "code",
   "execution_count": 19,
   "metadata": {
    "ExecuteTime": {
     "end_time": "2021-01-28T14:51:12.459659Z",
     "start_time": "2021-01-28T14:51:12.439746Z"
    }
   },
   "outputs": [],
   "source": [
    "import pandas as pd\n",
    "import numpy as np\n",
    "import pdb\n",
    "import requests\n",
    "import time\n",
    "import random\n",
    "import os\n",
    "import glob\n",
    "import sys\n",
    "import shutil\n",
    "\n",
    "from bs4 import BeautifulSoup\n",
    "from selenium import webdriver\n",
    "from selenium.webdriver.common.keys import Keys\n",
    "from selenium.webdriver.firefox.options import Options"
   ]
  },
  {
   "cell_type": "code",
   "execution_count": 20,
   "metadata": {
    "ExecuteTime": {
     "end_time": "2021-01-28T14:51:12.704642Z",
     "start_time": "2021-01-28T14:51:12.691959Z"
    }
   },
   "outputs": [],
   "source": [
    "def get_all_files_in_a_folder(folder, full=False):\n",
    "    path = \"{}{}\".format(SAVING_PATH, folder)\n",
    "\n",
    "    files = [f for f in glob.glob(path + \"**/*.csv\", recursive=True)]\n",
    "\n",
    "    if not full:\n",
    "        files = [file.replace(path + \"/\", \"\") for file in files]\n",
    "        files = [file.replace(\".csv\", \"\") for file in files]\n",
    "\n",
    "    return files"
   ]
  },
  {
   "cell_type": "code",
   "execution_count": 21,
   "metadata": {
    "ExecuteTime": {
     "end_time": "2021-01-28T14:51:12.992379Z",
     "start_time": "2021-01-28T14:51:12.986608Z"
    }
   },
   "outputs": [],
   "source": [
    "OBJECTS_BY_PAGE = 24\n",
    "MAX_PAGE = 400\n",
    "\n",
    "SAVING_PATH = \"/Users/lgmoneda/Documents/datasets/rijks/\"\n",
    "FOLDER = \"photomechanical print\"\n",
    "directory = \"{}{}\".format(SAVING_PATH, FOLDER)\n",
    "directory_metadata = \"{}metadata\".format(SAVING_PATH)"
   ]
  },
  {
   "cell_type": "code",
   "execution_count": 22,
   "metadata": {
    "ExecuteTime": {
     "end_time": "2021-01-28T14:51:13.310244Z",
     "start_time": "2021-01-28T14:51:13.299784Z"
    }
   },
   "outputs": [
    {
     "data": {
      "text/plain": [
       "'/Users/lgmoneda/Documents/datasets/rijks/photomechanical print'"
      ]
     },
     "execution_count": 22,
     "metadata": {},
     "output_type": "execute_result"
    }
   ],
   "source": [
    "directory"
   ]
  },
  {
   "cell_type": "code",
   "execution_count": 23,
   "metadata": {
    "ExecuteTime": {
     "end_time": "2021-01-28T14:51:13.556469Z",
     "start_time": "2021-01-28T14:51:13.545938Z"
    }
   },
   "outputs": [],
   "source": [
    "if not os.path.isdir(directory):\n",
    "    os.makedirs(directory, exist_ok=True)\n",
    "    \n",
    "if not os.path.isdir(directory_metadata):\n",
    "    os.makedirs(directory_metadata, exist_ok=True)    "
   ]
  },
  {
   "cell_type": "code",
   "execution_count": 24,
   "metadata": {
    "ExecuteTime": {
     "end_time": "2021-01-28T14:51:17.692441Z",
     "start_time": "2021-01-28T14:51:13.797073Z"
    }
   },
   "outputs": [],
   "source": [
    "options = Options()\n",
    "options.add_argument(\"--headless\")\n",
    "driver = webdriver.Firefox(options=options, executable_path=\"/usr/local/bin/geckodriver\")\n",
    "driver.implicitly_wait(5)"
   ]
  },
  {
   "cell_type": "markdown",
   "metadata": {},
   "source": [
    "https://www.rijksmuseum.nl/en/collection/SK-A-3956"
   ]
  },
  {
   "cell_type": "code",
   "execution_count": 25,
   "metadata": {
    "ExecuteTime": {
     "end_time": "2021-01-28T14:51:17.716751Z",
     "start_time": "2021-01-28T14:51:17.699151Z"
    }
   },
   "outputs": [
    {
     "data": {
      "text/plain": [
       "'/Users/lgmoneda/Documents/datasets/rijks/photomechanical print'"
      ]
     },
     "execution_count": 25,
     "metadata": {},
     "output_type": "execute_result"
    }
   ],
   "source": [
    "directory"
   ]
  },
  {
   "cell_type": "code",
   "execution_count": 26,
   "metadata": {
    "ExecuteTime": {
     "end_time": "2021-01-28T14:51:17.784455Z",
     "start_time": "2021-01-28T14:51:17.743830Z"
    }
   },
   "outputs": [],
   "source": [
    "def save_image_from_brick(brick, directory):\n",
    "    file_name = brick.find(\"a\", {\"class\": \"link-block\"})[\"href\"].split(\"/\")[-1] + \".jpg\"\n",
    "    \n",
    "    image_src = brick.find(\"img\", {\"class\": \"lazy-image\"})[\"data-src\"].split(\"=w\")[0]\n",
    "    image_src += \"=w1000\"\n",
    "    \n",
    "    img = requests.get(image_src, stream=True)\n",
    "    \n",
    "    with open(directory + \"/\" + file_name, \"wb\") as f:\n",
    "        shutil.copyfileobj(img.raw, f)\n",
    "        \n",
    "    return image_src"
   ]
  },
  {
   "cell_type": "code",
   "execution_count": 27,
   "metadata": {
    "ExecuteTime": {
     "end_time": "2021-01-28T14:51:17.808501Z",
     "start_time": "2021-01-28T14:51:17.799030Z"
    }
   },
   "outputs": [],
   "source": [
    "def trim_space_exclude_special_characters(text):\n",
    "    return text.replace(\"\\n\", \"\").strip()"
   ]
  },
  {
   "cell_type": "code",
   "execution_count": 28,
   "metadata": {
    "ExecuteTime": {
     "end_time": "2021-01-28T14:51:17.827890Z",
     "start_time": "2021-01-28T14:51:17.813393Z"
    }
   },
   "outputs": [],
   "source": [
    "def get_meta_data_from_brick(brick):\n",
    "    object_id = brick.find(\"a\", {\"class\": \"link-block\"})[\"href\"].split(\"/\")[-1]\n",
    "    title = brick.find(\"a\")[\"aria-label\"]\n",
    "    subtle = brick.find(\"p\", {\"class\": \"text-subtle\"}).text\n",
    "    artist = trim_space_exclude_special_characters(subtle.split(\",\")[0])\n",
    "    date = trim_space_exclude_special_characters(subtle.split(\",\")[-1]    )\n",
    "\n",
    "    return {\"id\": [object_id],\n",
    "            \"title\": [title],\n",
    "            \"artist\": [artist],\n",
    "            \"date\": [date]}"
   ]
  },
  {
   "cell_type": "code",
   "execution_count": 29,
   "metadata": {
    "ExecuteTime": {
     "end_time": "2021-01-28T14:51:17.840023Z",
     "start_time": "2021-01-28T14:51:17.833558Z"
    }
   },
   "outputs": [],
   "source": [
    "def save_meta_data_from_dict(metadata_dict, directory):\n",
    "    df = pd.DataFrame.from_dict(metadata_dict)\n",
    "    df.to_csv(directory + \"/\" + metadata_dict[\"id\"][0] + \".csv\")"
   ]
  },
  {
   "cell_type": "code",
   "execution_count": 30,
   "metadata": {
    "ExecuteTime": {
     "end_time": "2021-01-28T14:51:17.851631Z",
     "start_time": "2021-01-28T14:51:17.846193Z"
    }
   },
   "outputs": [],
   "source": [
    "#MAX_PAGE = 500\n",
    "object_type = FOLDER\n",
    "MIN_PAGE = 1"
   ]
  },
  {
   "cell_type": "code",
   "execution_count": 31,
   "metadata": {
    "ExecuteTime": {
     "end_time": "2021-01-28T16:51:39.466029Z",
     "start_time": "2021-01-28T14:51:18.701130Z"
    }
   },
   "outputs": [
    {
     "name": "stdout",
     "output_type": "stream",
     "text": [
      "1\n",
      "2\n",
      "3\n",
      "4\n",
      "5\n",
      "6\n",
      "7\n",
      "8\n",
      "9\n",
      "10\n",
      "11\n",
      "12\n",
      "13\n",
      "14\n",
      "15\n",
      "16\n",
      "17\n",
      "18\n",
      "19\n",
      "20\n",
      "21\n",
      "22\n",
      "23\n",
      "24\n",
      "25\n",
      "26\n",
      "27\n",
      "28\n",
      "29\n",
      "30\n",
      "31\n",
      "32\n",
      "33\n",
      "34\n",
      "35\n",
      "36\n",
      "37\n",
      "38\n",
      "39\n",
      "40\n",
      "41\n",
      "42\n",
      "43\n",
      "44\n",
      "45\n",
      "46\n",
      "47\n",
      "48\n",
      "49\n",
      "50\n",
      "51\n",
      "52\n",
      "53\n",
      "54\n",
      "55\n",
      "56\n",
      "57\n",
      "58\n",
      "59\n",
      "60\n",
      "61\n",
      "62\n",
      "63\n",
      "64\n",
      "65\n",
      "66\n",
      "67\n",
      "68\n",
      "69\n",
      "70\n",
      "71\n",
      "72\n",
      "73\n",
      "74\n",
      "75\n",
      "76\n",
      "77\n",
      "78\n",
      "79\n",
      "80\n",
      "81\n",
      "82\n",
      "83\n",
      "84\n",
      "85\n",
      "86\n",
      "87\n",
      "88\n",
      "89\n",
      "90\n",
      "91\n",
      "92\n",
      "93\n",
      "94\n",
      "95\n",
      "96\n",
      "97\n",
      "98\n",
      "99\n",
      "100\n",
      "101\n",
      "102\n",
      "103\n",
      "104\n",
      "105\n",
      "106\n",
      "107\n",
      "108\n",
      "109\n",
      "110\n",
      "111\n",
      "112\n",
      "113\n",
      "114\n",
      "115\n",
      "116\n",
      "117\n",
      "118\n",
      "119\n",
      "120\n",
      "121\n",
      "122\n",
      "123\n",
      "124\n",
      "125\n",
      "126\n",
      "127\n",
      "128\n",
      "129\n",
      "130\n",
      "131\n",
      "132\n",
      "133\n",
      "134\n",
      "135\n",
      "136\n",
      "137\n",
      "138\n",
      "139\n",
      "140\n",
      "141\n",
      "142\n",
      "143\n",
      "144\n",
      "145\n",
      "146\n",
      "147\n",
      "148\n",
      "149\n",
      "150\n",
      "151\n",
      "152\n",
      "153\n",
      "154\n",
      "155\n",
      "156\n",
      "157\n",
      "158\n",
      "159\n",
      "160\n",
      "161\n",
      "162\n",
      "163\n",
      "164\n",
      "165\n",
      "166\n",
      "167\n",
      "168\n",
      "169\n",
      "170\n",
      "171\n",
      "172\n",
      "173\n",
      "174\n",
      "175\n",
      "176\n",
      "177\n",
      "178\n",
      "179\n",
      "180\n",
      "181\n",
      "182\n",
      "183\n",
      "184\n",
      "185\n",
      "186\n",
      "187\n",
      "188\n",
      "189\n",
      "190\n",
      "191\n",
      "192\n",
      "193\n",
      "194\n",
      "195\n",
      "196\n",
      "197\n",
      "198\n",
      "199\n",
      "200\n",
      "201\n",
      "202\n",
      "203\n",
      "204\n",
      "205\n",
      "206\n",
      "207\n",
      "208\n",
      "209\n",
      "210\n",
      "211\n",
      "212\n",
      "213\n",
      "214\n",
      "215\n",
      "216\n",
      "217\n",
      "218\n",
      "219\n",
      "220\n",
      "221\n",
      "222\n",
      "223\n",
      "224\n",
      "225\n",
      "226\n",
      "227\n",
      "228\n",
      "229\n",
      "230\n",
      "231\n",
      "232\n",
      "233\n",
      "234\n",
      "235\n",
      "236\n",
      "237\n",
      "238\n",
      "239\n",
      "240\n",
      "241\n",
      "242\n",
      "243\n",
      "244\n",
      "245\n",
      "246\n",
      "247\n",
      "248\n",
      "249\n",
      "250\n",
      "251\n",
      "252\n",
      "253\n",
      "254\n",
      "255\n",
      "256\n",
      "257\n",
      "258\n",
      "259\n",
      "260\n",
      "261\n",
      "262\n",
      "263\n",
      "264\n",
      "265\n",
      "266\n",
      "267\n",
      "268\n",
      "269\n",
      "270\n",
      "271\n",
      "272\n",
      "273\n",
      "274\n",
      "275\n",
      "276\n",
      "277\n",
      "278\n",
      "279\n",
      "280\n",
      "281\n",
      "282\n",
      "283\n",
      "284\n",
      "285\n",
      "286\n",
      "287\n",
      "288\n",
      "289\n",
      "290\n",
      "291\n",
      "292\n",
      "293\n",
      "294\n",
      "295\n",
      "296\n",
      "297\n",
      "298\n",
      "299\n",
      "300\n",
      "301\n",
      "302\n",
      "303\n",
      "304\n",
      "305\n",
      "306\n",
      "307\n",
      "308\n",
      "309\n",
      "310\n",
      "311\n",
      "312\n",
      "313\n",
      "314\n",
      "315\n",
      "316\n",
      "317\n",
      "318\n",
      "319\n",
      "320\n",
      "321\n",
      "322\n",
      "323\n",
      "324\n",
      "325\n",
      "326\n",
      "327\n",
      "328\n",
      "329\n",
      "330\n",
      "331\n",
      "332\n",
      "333\n",
      "334\n",
      "335\n",
      "336\n",
      "337\n",
      "338\n",
      "339\n",
      "340\n",
      "341\n",
      "342\n",
      "343\n",
      "344\n",
      "345\n",
      "346\n",
      "347\n",
      "348\n",
      "349\n",
      "350\n",
      "351\n",
      "352\n",
      "353\n",
      "354\n",
      "355\n",
      "356\n",
      "357\n",
      "358\n",
      "359\n",
      "360\n",
      "361\n",
      "362\n",
      "363\n",
      "364\n",
      "365\n",
      "366\n",
      "367\n",
      "368\n",
      "369\n",
      "370\n",
      "371\n",
      "372\n",
      "373\n",
      "374\n",
      "375\n",
      "376\n",
      "377\n",
      "378\n",
      "379\n",
      "380\n",
      "381\n",
      "382\n",
      "383\n",
      "384\n",
      "385\n",
      "386\n",
      "387\n",
      "388\n",
      "389\n",
      "390\n",
      "391\n",
      "392\n",
      "393\n",
      "394\n",
      "395\n",
      "396\n",
      "397\n",
      "398\n",
      "399\n",
      "400\n"
     ]
    }
   ],
   "source": [
    "for page in range(MIN_PAGE, MAX_PAGE+1):\n",
    "    print(page)\n",
    "    downloaded = get_all_files_in_a_folder(\"metadata\")\n",
    "    \n",
    "    url_template = \"https://www.rijksmuseum.nl/en/search?f=1&p={}&ps={}&type={}&st=Objects&ii=0\"\n",
    "    page_link = url_template.format(page, OBJECTS_BY_PAGE, object_type)\n",
    "    driver.get(page_link)\n",
    "            \n",
    "    soup = BeautifulSoup(driver.page_source)\n",
    "    content = soup.find_all(\"figure\", {\"class\": \"brick\"})\n",
    "\n",
    "    for brick in content:\n",
    "        try:\n",
    "            metadata_dict = get_meta_data_from_brick(brick)\n",
    "            if metadata_dict[\"id\"] not in downloaded:\n",
    "                metadata_dict[\"type\"] = [object_type]\n",
    "                save_meta_data_from_dict(metadata_dict, directory_metadata)\n",
    "                save_image_from_brick(brick, directory)\n",
    "        except:\n",
    "            pass\n",
    "driver.close()"
   ]
  },
  {
   "cell_type": "code",
   "execution_count": 32,
   "metadata": {
    "ExecuteTime": {
     "end_time": "2021-01-28T16:51:39.472423Z",
     "start_time": "2021-01-28T16:51:39.468142Z"
    }
   },
   "outputs": [],
   "source": [
    "def aggregate_all_metadata(folder):\n",
    "    \n",
    "    files = get_all_files_in_a_folder(folder, full=True)\n",
    "\n",
    "    all_dataframes = []\n",
    "    for file in files:\n",
    "        all_dataframes.append(pd.read_csv(file))\n",
    "        \n",
    "    return pd.concat(all_dataframes)"
   ]
  },
  {
   "cell_type": "code",
   "execution_count": 33,
   "metadata": {
    "ExecuteTime": {
     "end_time": "2021-01-28T16:53:21.710464Z",
     "start_time": "2021-01-28T16:51:39.475055Z"
    }
   },
   "outputs": [],
   "source": [
    "metadata_df = aggregate_all_metadata(\"metadata\")"
   ]
  },
  {
   "cell_type": "code",
   "execution_count": 34,
   "metadata": {
    "ExecuteTime": {
     "end_time": "2021-01-28T16:53:21.741597Z",
     "start_time": "2021-01-28T16:53:21.712544Z"
    }
   },
   "outputs": [],
   "source": [
    "metadata_df.drop(columns=[\"Unnamed: 0\"], inplace=True)"
   ]
  },
  {
   "cell_type": "code",
   "execution_count": 35,
   "metadata": {
    "ExecuteTime": {
     "end_time": "2021-01-28T16:53:21.746363Z",
     "start_time": "2021-01-28T16:53:21.743658Z"
    }
   },
   "outputs": [],
   "source": [
    "metadata_df.reset_index(drop=True, inplace=True)"
   ]
  },
  {
   "cell_type": "code",
   "execution_count": 36,
   "metadata": {
    "ExecuteTime": {
     "end_time": "2021-01-28T16:53:21.866735Z",
     "start_time": "2021-01-28T16:53:21.748477Z"
    }
   },
   "outputs": [],
   "source": [
    "metadata_df.to_csv(SAVING_PATH + \"metadata.csv\")"
   ]
  },
  {
   "cell_type": "markdown",
   "metadata": {},
   "source": [
    "## Compress"
   ]
  },
  {
   "cell_type": "code",
   "execution_count": 20,
   "metadata": {
    "ExecuteTime": {
     "end_time": "2021-01-24T12:12:47.655238Z",
     "start_time": "2021-01-24T12:12:47.649626Z"
    }
   },
   "outputs": [
    {
     "data": {
      "text/plain": [
       "'/Users/lgmoneda/Documents/datasets/rijks/'"
      ]
     },
     "execution_count": 20,
     "metadata": {},
     "output_type": "execute_result"
    }
   ],
   "source": [
    "SAVING_PATH"
   ]
  },
  {
   "cell_type": "markdown",
   "metadata": {},
   "source": [
    "https://code.tutsplus.com/tutorials/compressing-and-extracting-files-in-python--cms-26816"
   ]
  },
  {
   "cell_type": "code",
   "execution_count": 21,
   "metadata": {
    "ExecuteTime": {
     "end_time": "2021-01-24T12:12:47.664193Z",
     "start_time": "2021-01-24T12:12:47.659550Z"
    }
   },
   "outputs": [
    {
     "data": {
      "text/plain": [
       "'/Users/lgmoneda/Documents/datasets/rijks/drawing'"
      ]
     },
     "execution_count": 21,
     "metadata": {},
     "output_type": "execute_result"
    }
   ],
   "source": [
    "directory"
   ]
  },
  {
   "cell_type": "code",
   "execution_count": 22,
   "metadata": {
    "ExecuteTime": {
     "end_time": "2021-01-24T12:12:47.670485Z",
     "start_time": "2021-01-24T12:12:47.666892Z"
    }
   },
   "outputs": [],
   "source": [
    "# import os\n",
    "# import zipfile\n",
    " \n",
    "# fantasy_zip = zipfile.ZipFile(SAVING_PATH + \"{}.zip\".format(FOLDER), 'w')\n",
    " \n",
    "# for folder, subfolders, files in os.walk(directory): \n",
    "#     for file in files:\n",
    "#         if file.endswith('.jpg'):\n",
    "#             fantasy_zip.write(os.path.join(folder, file), file, compress_type = zipfile.ZIP_DEFLATED)\n",
    "#             #fantasy_zip.write(os.path.join(folder, file), os.path.relpath(os.path.join(file), SAVING_PATH), compress_type = zipfile.ZIP_DEFLATED)\n",
    " \n",
    "# fantasy_zip.close()"
   ]
  },
  {
   "cell_type": "code",
   "execution_count": null,
   "metadata": {},
   "outputs": [],
   "source": []
  }
 ],
 "metadata": {
  "hide_input": false,
  "kernelspec": {
   "display_name": "ml3",
   "language": "python",
   "name": "lgm"
  },
  "language_info": {
   "codemirror_mode": {
    "name": "ipython",
    "version": 3
   },
   "file_extension": ".py",
   "mimetype": "text/x-python",
   "name": "python",
   "nbconvert_exporter": "python",
   "pygments_lexer": "ipython3",
   "version": "3.6.10"
  },
  "toc": {
   "base_numbering": 1,
   "nav_menu": {},
   "number_sections": true,
   "sideBar": true,
   "skip_h1_title": true,
   "title_cell": "Index",
   "title_sidebar": "Contents",
   "toc_cell": true,
   "toc_position": {},
   "toc_section_display": true,
   "toc_window_display": false
  }
 },
 "nbformat": 4,
 "nbformat_minor": 2
}
