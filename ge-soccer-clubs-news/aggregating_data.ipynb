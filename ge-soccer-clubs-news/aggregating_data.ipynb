{
 "cells": [
  {
   "cell_type": "markdown",
   "metadata": {
    "toc": true
   },
   "source": [
    "<h1>Index<span class=\"tocSkip\"></span></h1>\n",
    "<div class=\"toc\"><ul class=\"toc-item\"></ul></div>"
   ]
  },
  {
   "cell_type": "markdown",
   "metadata": {},
   "source": [
    "# Data Aggregation\n",
    "\n",
    "Put together all teams data in a single dataset."
   ]
  },
  {
   "cell_type": "code",
   "execution_count": 1,
   "metadata": {
    "ExecuteTime": {
     "end_time": "2020-10-27T16:46:26.708790Z",
     "start_time": "2020-10-27T16:46:25.888473Z"
    }
   },
   "outputs": [],
   "source": [
    "import pandas as pd\n",
    "import os\n",
    "import glob\n",
    "import matplotlib.pyplot as plt"
   ]
  },
  {
   "cell_type": "code",
   "execution_count": 2,
   "metadata": {
    "ExecuteTime": {
     "end_time": "2020-10-27T16:46:26.718388Z",
     "start_time": "2020-10-27T16:46:26.711377Z"
    }
   },
   "outputs": [],
   "source": [
    "SAVING_PATH = \"/Users/lgmoneda/Documents/datasets/ge_news\"\n",
    "def get_all_files_in_a_folder(team, full=False):\n",
    "    path = \"{}/data/{}\".format(SAVING_PATH, team)\n",
    "    \n",
    "    files = [f for f in glob.glob(path + \"**/*.csv\", recursive=True)]\n",
    "    \n",
    "    if not full:\n",
    "        files = [file.replace(path + \"/\", \"\") for file in files]\n",
    "        files = [file.replace(\".csv\", \"\") for file in files]\n",
    "    \n",
    "    return files\n",
    "\n",
    "def aggregate_all_saved_sections_from_zones_files(team):\n",
    "    files = get_all_files_in_a_folder(team, full=True)\n",
    "    \n",
    "    all_dataframes = []\n",
    "    for file in files:\n",
    "        all_dataframes.append(pd.read_csv(file))\n",
    "        \n",
    "    return add_team_column(pd.concat(all_dataframes), team)\n",
    "\n",
    "def add_team_column(data, team):\n",
    "    data[\"club\"] = team\n",
    "    return data"
   ]
  },
  {
   "cell_type": "code",
   "execution_count": 3,
   "metadata": {
    "ExecuteTime": {
     "end_time": "2020-10-27T16:51:18.961779Z",
     "start_time": "2020-10-27T16:46:28.407330Z"
    }
   },
   "outputs": [],
   "source": [
    "teams = [\"athletico-pr\", \"atletico-go\", \"atletico-mg\",\n",
    "         \"bahia\", \"bragantino\", \"botafogo\", \"ceara\",\n",
    "         \"corinthians\", \"coritiba\", \"flamengo\", \"fluminense\", \n",
    "         \"fortaleza\", \"goias\", \"gremio\", \"internacional\", \n",
    "         \"palmeiras\", \"santos\", \"sao-paulo\", \"sport\", \"vasco\", \"cruzeiro\"]\n",
    "    \n",
    "teams_dataframes = [aggregate_all_saved_sections_from_zones_files(team) for team in teams]\n",
    "data = pd.concat(teams_dataframes)\n",
    "data[\"article_time\"] = data[\"date\"].apply(lambda x: x.strip().split(\" \")[1] if not pd.isnull(x) else x)\n",
    "data[\"article_date\"] = data[\"date\"].apply(lambda x: x.strip().split(\" \")[0] if not pd.isnull(x) else x)\n"
   ]
  },
  {
   "cell_type": "code",
   "execution_count": 4,
   "metadata": {
    "ExecuteTime": {
     "end_time": "2020-10-27T16:51:18.970489Z",
     "start_time": "2020-10-27T16:51:18.964154Z"
    }
   },
   "outputs": [
    {
     "data": {
      "text/plain": [
       "(107750, 7)"
      ]
     },
     "execution_count": 4,
     "metadata": {},
     "output_type": "execute_result"
    }
   ],
   "source": [
    "### 96778\n",
    "data.shape"
   ]
  },
  {
   "cell_type": "code",
   "execution_count": 5,
   "metadata": {
    "ExecuteTime": {
     "end_time": "2020-10-27T16:51:19.085209Z",
     "start_time": "2020-10-27T16:51:18.976883Z"
    }
   },
   "outputs": [],
   "source": [
    "data[\"year-month\"] = data[\"article_date\"].apply(lambda x: x.split(\"/\")[-1] + \"-\" + x.split(\"/\")[1])"
   ]
  },
  {
   "cell_type": "code",
   "execution_count": 6,
   "metadata": {
    "ExecuteTime": {
     "end_time": "2020-10-27T16:51:20.435041Z",
     "start_time": "2020-10-27T16:51:19.088777Z"
    }
   },
   "outputs": [
    {
     "data": {
      "image/png": "[encoded data removed]",
      "text/plain": [
       "<Figure size 1008x288 with 1 Axes>"
      ]
     },
     "metadata": {
      "needs_background": "light"
     },
     "output_type": "display_data"
    }
   ],
   "source": [
    "data.groupby(\"year-month\")[\"title\"].count().sort_index().plot(kind=\"bar\",\n",
    "                                                             figsize=(14, 4))\n",
    "plt.title(\"Articles by year-month\")\n",
    "plt.show()"
   ]
  },
  {
   "cell_type": "code",
   "execution_count": 7,
   "metadata": {
    "ExecuteTime": {
     "end_time": "2020-10-27T16:51:21.375765Z",
     "start_time": "2020-10-27T16:51:20.438142Z"
    }
   },
   "outputs": [
    {
     "data": {
      "image/png": "[encoded data removed]",
      "text/plain": [
       "<Figure size 1008x288 with 1 Axes>"
      ]
     },
     "metadata": {
      "needs_background": "light"
     },
     "output_type": "display_data"
    }
   ],
   "source": [
    "data[data[\"club\"] == \"flamengo\"].groupby(\"year-month\")[\"title\"].count().sort_index().plot(kind=\"bar\",\n",
    "                                                             figsize=(14, 4))\n",
    "plt.title(\"Articles by year-month\")\n",
    "plt.show()"
   ]
  },
  {
   "cell_type": "code",
   "execution_count": 8,
   "metadata": {
    "ExecuteTime": {
     "end_time": "2020-10-27T16:51:21.381597Z",
     "start_time": "2020-10-27T16:51:21.378620Z"
    }
   },
   "outputs": [],
   "source": [
    "# data[data[\"club\"] == \"internacional\"].groupby(\"year-month\")[\"title\"].count().sort_index().plot(kind=\"bar\",\n",
    "#                                                              figsize=(14, 4))\n",
    "# plt.title(\"Articles by year-month\")\n",
    "# plt.show()"
   ]
  },
  {
   "cell_type": "code",
   "execution_count": 9,
   "metadata": {
    "ExecuteTime": {
     "end_time": "2020-10-27T16:51:21.386794Z",
     "start_time": "2020-10-27T16:51:21.384397Z"
    }
   },
   "outputs": [],
   "source": [
    "# pd.set_option('display.max_columns', None)  # or 1000\n",
    "# pd.set_option('display.max_rows', None)  # or 1000\n",
    "# pd.set_option('display.max_colwidth', -1)  # or 199"
   ]
  },
  {
   "cell_type": "code",
   "execution_count": 10,
   "metadata": {
    "ExecuteTime": {
     "end_time": "2020-10-27T16:51:21.393957Z",
     "start_time": "2020-10-27T16:51:21.391273Z"
    },
    "scrolled": false
   },
   "outputs": [],
   "source": [
    "# data[(data[\"club\"] == \"internacional\") | (data[\"club\"] == \"flamengo\")].groupby([\"year-month\", \"club\"]).count()"
   ]
  },
  {
   "cell_type": "code",
   "execution_count": 11,
   "metadata": {
    "ExecuteTime": {
     "end_time": "2020-10-27T16:51:21.399353Z",
     "start_time": "2020-10-27T16:51:21.396815Z"
    }
   },
   "outputs": [],
   "source": [
    "# agg = data.groupby(\"title\")[\"club\"].count() \n",
    "# agg[agg > 1].sort_values(ascending=False)"
   ]
  },
  {
   "cell_type": "code",
   "execution_count": 12,
   "metadata": {
    "ExecuteTime": {
     "end_time": "2020-10-27T16:51:21.426418Z",
     "start_time": "2020-10-27T16:51:21.402501Z"
    }
   },
   "outputs": [
    {
     "data": {
      "text/plain": [
       "club\n",
       "athletico-pr      7225\n",
       "atletico-go       1825\n",
       "atletico-mg       4607\n",
       "bahia             2975\n",
       "botafogo          6620\n",
       "bragantino        1192\n",
       "ceara             2580\n",
       "corinthians       9797\n",
       "coritiba          2283\n",
       "cruzeiro          4258\n",
       "flamengo         10709\n",
       "fluminense        6563\n",
       "fortaleza         2968\n",
       "goias             2918\n",
       "gremio            6527\n",
       "internacional     8245\n",
       "palmeiras         7245\n",
       "santos            5232\n",
       "sao-paulo         8165\n",
       "sport             2874\n",
       "vasco             2942\n",
       "Name: title, dtype: int64"
      ]
     },
     "execution_count": 12,
     "metadata": {},
     "output_type": "execute_result"
    }
   ],
   "source": [
    "data.groupby(\"club\")[\"title\"].count()"
   ]
  },
  {
   "cell_type": "code",
   "execution_count": 13,
   "metadata": {
    "ExecuteTime": {
     "end_time": "2020-10-27T16:51:21.492202Z",
     "start_time": "2020-10-27T16:51:21.429350Z"
    }
   },
   "outputs": [],
   "source": [
    "data = data.drop(columns=[\"date\"]).rename(columns={\"article_date\": \"date\", \n",
    "                                                   \"article_time\": \"time\", \n",
    "                                                   \"article_link\": \"link\",\n",
    "                                                   \"article_text\": \"text\"})"
   ]
  },
  {
   "cell_type": "code",
   "execution_count": 14,
   "metadata": {
    "ExecuteTime": {
     "end_time": "2020-10-27T16:51:21.535805Z",
     "start_time": "2020-10-27T16:51:21.494517Z"
    }
   },
   "outputs": [],
   "source": [
    "data = data[~pd.isnull(data[\"text\"])]"
   ]
  },
  {
   "cell_type": "code",
   "execution_count": 15,
   "metadata": {
    "ExecuteTime": {
     "end_time": "2020-10-27T16:51:21.542292Z",
     "start_time": "2020-10-27T16:51:21.537776Z"
    }
   },
   "outputs": [
    {
     "data": {
      "text/plain": [
       "(107749, 7)"
      ]
     },
     "execution_count": 15,
     "metadata": {},
     "output_type": "execute_result"
    }
   ],
   "source": [
    "data.shape"
   ]
  },
  {
   "cell_type": "code",
   "execution_count": 16,
   "metadata": {
    "ExecuteTime": {
     "end_time": "2020-10-27T16:51:21.563497Z",
     "start_time": "2020-10-27T16:51:21.545144Z"
    }
   },
   "outputs": [
    {
     "data": {
      "text/html": [
       "<div>\n",
       "<style scoped>\n",
       "    .dataframe tbody tr th:only-of-type {\n",
       "        vertical-align: middle;\n",
       "    }\n",
       "\n",
       "    .dataframe tbody tr th {\n",
       "        vertical-align: top;\n",
       "    }\n",
       "\n",
       "    .dataframe thead th {\n",
       "        text-align: right;\n",
       "    }\n",
       "</style>\n",
       "<table border=\"1\" class=\"dataframe\">\n",
       "  <thead>\n",
       "    <tr style=\"text-align: right;\">\n",
       "      <th></th>\n",
       "      <th>title</th>\n",
       "      <th>text</th>\n",
       "      <th>link</th>\n",
       "      <th>club</th>\n",
       "      <th>time</th>\n",
       "      <th>date</th>\n",
       "      <th>year-month</th>\n",
       "    </tr>\n",
       "  </thead>\n",
       "  <tbody>\n",
       "    <tr>\n",
       "      <th>0</th>\n",
       "      <td>Conmebol divulga tabela detalhada da pré e da ...</td>\n",
       "      <td>Argentinos são destaques no caminho dos brasi...</td>\n",
       "      <td>https://globoesporte.globo.com/futebol/liberta...</td>\n",
       "      <td>athletico-pr</td>\n",
       "      <td>10h04</td>\n",
       "      <td>22/12/2017</td>\n",
       "      <td>2017-12</td>\n",
       "    </tr>\n",
       "    <tr>\n",
       "      <th>0</th>\n",
       "      <td>Com assistência, Demethryus recebe elogios no ...</td>\n",
       "      <td>O meia Demethryus conseguiu aproveitar bem a ...</td>\n",
       "      <td>https://globoesporte.globo.com/pr/futebol/time...</td>\n",
       "      <td>athletico-pr</td>\n",
       "      <td>08h00</td>\n",
       "      <td>11/02/2018</td>\n",
       "      <td>2018-02</td>\n",
       "    </tr>\n",
       "    <tr>\n",
       "      <th>0</th>\n",
       "      <td>Alô, cartoleiros! Atlético-PR passa limpo cont...</td>\n",
       "      <td>O atacante Marcelo Cirino, desfalque já nos ú...</td>\n",
       "      <td>https://globoesporte.globo.com/pr/futebol/time...</td>\n",
       "      <td>athletico-pr</td>\n",
       "      <td>22h17</td>\n",
       "      <td>13/09/2018</td>\n",
       "      <td>2018-09</td>\n",
       "    </tr>\n",
       "    <tr>\n",
       "      <th>0</th>\n",
       "      <td>Athletico mantém o projeto de torcida única e ...</td>\n",
       "      <td>O Athletico também divulgou o preço dos ingre...</td>\n",
       "      <td>https://globoesporte.globo.com/pr/futebol/time...</td>\n",
       "      <td>athletico-pr</td>\n",
       "      <td>14h54</td>\n",
       "      <td>16/01/2019</td>\n",
       "      <td>2019-01</td>\n",
       "    </tr>\n",
       "    <tr>\n",
       "      <th>0</th>\n",
       "      <td>Atlético-PR peca na pontaria e chega a 11 jogo...</td>\n",
       "      <td>O volante Bruno Guimarães finalizou uma vez, ...</td>\n",
       "      <td>https://globoesporte.globo.com/pr/futebol/time...</td>\n",
       "      <td>athletico-pr</td>\n",
       "      <td>08h30</td>\n",
       "      <td>21/10/2018</td>\n",
       "      <td>2018-10</td>\n",
       "    </tr>\n",
       "  </tbody>\n",
       "</table>\n",
       "</div>"
      ],
      "text/plain": [
       "                                               title  \\\n",
       "0  Conmebol divulga tabela detalhada da pré e da ...   \n",
       "0  Com assistência, Demethryus recebe elogios no ...   \n",
       "0  Alô, cartoleiros! Atlético-PR passa limpo cont...   \n",
       "0  Athletico mantém o projeto de torcida única e ...   \n",
       "0  Atlético-PR peca na pontaria e chega a 11 jogo...   \n",
       "\n",
       "                                                text  \\\n",
       "0   Argentinos são destaques no caminho dos brasi...   \n",
       "0   O meia Demethryus conseguiu aproveitar bem a ...   \n",
       "0   O atacante Marcelo Cirino, desfalque já nos ú...   \n",
       "0   O Athletico também divulgou o preço dos ingre...   \n",
       "0   O volante Bruno Guimarães finalizou uma vez, ...   \n",
       "\n",
       "                                                link          club   time  \\\n",
       "0  https://globoesporte.globo.com/futebol/liberta...  athletico-pr  10h04   \n",
       "0  https://globoesporte.globo.com/pr/futebol/time...  athletico-pr  08h00   \n",
       "0  https://globoesporte.globo.com/pr/futebol/time...  athletico-pr  22h17   \n",
       "0  https://globoesporte.globo.com/pr/futebol/time...  athletico-pr  14h54   \n",
       "0  https://globoesporte.globo.com/pr/futebol/time...  athletico-pr  08h30   \n",
       "\n",
       "         date year-month  \n",
       "0  22/12/2017    2017-12  \n",
       "0  11/02/2018    2018-02  \n",
       "0  13/09/2018    2018-09  \n",
       "0  16/01/2019    2019-01  \n",
       "0  21/10/2018    2018-10  "
      ]
     },
     "execution_count": 16,
     "metadata": {},
     "output_type": "execute_result"
    }
   ],
   "source": [
    "data.head()"
   ]
  },
  {
   "cell_type": "code",
   "execution_count": 17,
   "metadata": {
    "ExecuteTime": {
     "end_time": "2020-10-27T16:51:29.027136Z",
     "start_time": "2020-10-27T16:51:21.566396Z"
    }
   },
   "outputs": [],
   "source": [
    "data[[\"date\", \"time\", \"title\", \"text\", \"link\", \"club\"]].to_csv(\"/Users/lgmoneda/Documents/datasets/ge_news/data/ge_news.csv\", index=False)"
   ]
  },
  {
   "cell_type": "code",
   "execution_count": null,
   "metadata": {},
   "outputs": [],
   "source": []
  },
  {
   "cell_type": "code",
   "execution_count": null,
   "metadata": {},
   "outputs": [],
   "source": []
  },
  {
   "cell_type": "code",
   "execution_count": null,
   "metadata": {},
   "outputs": [],
   "source": []
  }
 ],
 "metadata": {
  "hide_input": false,
  "kernelspec": {
   "display_name": "nu",
   "language": "python",
   "name": "python3"
  },
  "language_info": {
   "codemirror_mode": {
    "name": "ipython",
    "version": 3
   },
   "file_extension": ".py",
   "mimetype": "text/x-python",
   "name": "python",
   "nbconvert_exporter": "python",
   "pygments_lexer": "ipython3",
   "version": "3.6.10"
  },
  "toc": {
   "base_numbering": 1,
   "nav_menu": {},
   "number_sections": true,
   "sideBar": true,
   "skip_h1_title": true,
   "title_cell": "Index",
   "title_sidebar": "Contents",
   "toc_cell": true,
   "toc_position": {},
   "toc_section_display": true,
   "toc_window_display": false
  }
 },
 "nbformat": 4,
 "nbformat_minor": 2
}
