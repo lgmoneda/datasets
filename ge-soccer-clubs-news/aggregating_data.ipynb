{
 "cells": [
  {
   "cell_type": "markdown",
   "metadata": {
    "toc": true
   },
   "source": [
    "<h1>Index<span class=\"tocSkip\"></span></h1>\n",
    "<div class=\"toc\"><ul class=\"toc-item\"></ul></div>"
   ]
  },
  {
   "cell_type": "markdown",
   "metadata": {},
   "source": [
    "# Data Aggregation\n",
    "\n",
    "Put together all teams data in a single dataset."
   ]
  },
  {
   "cell_type": "code",
   "execution_count": 1,
   "metadata": {
    "ExecuteTime": {
     "end_time": "2020-09-22T20:54:18.595478Z",
     "start_time": "2020-09-22T20:54:17.850010Z"
    }
   },
   "outputs": [],
   "source": [
    "import pandas as pd\n",
    "import os\n",
    "import glob\n",
    "import matplotlib.pyplot as plt"
   ]
  },
  {
   "cell_type": "code",
   "execution_count": 2,
   "metadata": {
    "ExecuteTime": {
     "end_time": "2020-09-22T20:54:18.605271Z",
     "start_time": "2020-09-22T20:54:18.598595Z"
    }
   },
   "outputs": [],
   "source": [
    "SAVING_PATH = \"/Users/lgmoneda/Documents/datasets/ge_news\"\n",
    "def get_all_files_in_a_folder(team, full=False):\n",
    "    path = \"{}/data/{}\".format(SAVING_PATH, team)\n",
    "    \n",
    "    files = [f for f in glob.glob(path + \"**/*.csv\", recursive=True)]\n",
    "    \n",
    "    if not full:\n",
    "        files = [file.replace(path + \"/\", \"\") for file in files]\n",
    "        files = [file.replace(\".csv\", \"\") for file in files]\n",
    "    \n",
    "    return files\n",
    "\n",
    "def aggregate_all_saved_sections_from_zones_files(team):\n",
    "    files = get_all_files_in_a_folder(team, full=True)\n",
    "    \n",
    "    all_dataframes = []\n",
    "    for file in files:\n",
    "        all_dataframes.append(pd.read_csv(file))\n",
    "        \n",
    "    return add_team_column(pd.concat(all_dataframes), team)\n",
    "\n",
    "def add_team_column(data, team):\n",
    "    data[\"club\"] = team\n",
    "    return data"
   ]
  },
  {
   "cell_type": "code",
   "execution_count": 3,
   "metadata": {
    "ExecuteTime": {
     "end_time": "2020-09-22T20:58:49.423764Z",
     "start_time": "2020-09-22T20:54:18.608227Z"
    }
   },
   "outputs": [],
   "source": [
    "teams = [\"athletico-pr\", \"atletico-go\", \"atletico-mg\",\n",
    "         \"bahia\", \"bragantino\", \"botafogo\", \"ceara\",\n",
    "         \"corinthians\", \"coritiba\", \"flamengo\", \"fluminense\", \n",
    "         \"fortaleza\", \"goias\", \"gremio\", \"internacional\", \n",
    "         \"palmeiras\", \"santos\", \"sao-paulo\", \"sport\", \"vasco\", \"cruzeiro\"]\n",
    "    \n",
    "teams_dataframes = [aggregate_all_saved_sections_from_zones_files(team) for team in teams]\n",
    "data = pd.concat(teams_dataframes)\n",
    "data[\"article_time\"] = data[\"date\"].apply(lambda x: x.strip().split(\" \")[1] if not pd.isnull(x) else x)\n",
    "data[\"article_date\"] = data[\"date\"].apply(lambda x: x.strip().split(\" \")[0] if not pd.isnull(x) else x)\n"
   ]
  },
  {
   "cell_type": "code",
   "execution_count": 4,
   "metadata": {
    "ExecuteTime": {
     "end_time": "2020-09-22T20:58:49.431825Z",
     "start_time": "2020-09-22T20:58:49.425942Z"
    }
   },
   "outputs": [
    {
     "data": {
      "text/plain": [
       "(102291, 7)"
      ]
     },
     "execution_count": 4,
     "metadata": {},
     "output_type": "execute_result"
    }
   ],
   "source": [
    "### 96778\n",
    "data.shape"
   ]
  },
  {
   "cell_type": "code",
   "execution_count": 5,
   "metadata": {
    "ExecuteTime": {
     "end_time": "2020-09-22T20:58:49.533714Z",
     "start_time": "2020-09-22T20:58:49.434244Z"
    }
   },
   "outputs": [],
   "source": [
    "data[\"year-month\"] = data[\"article_date\"].apply(lambda x: x.split(\"/\")[-1] + \"-\" + x.split(\"/\")[1])"
   ]
  },
  {
   "cell_type": "code",
   "execution_count": 6,
   "metadata": {
    "ExecuteTime": {
     "end_time": "2020-09-22T20:58:50.723386Z",
     "start_time": "2020-09-22T20:58:49.535839Z"
    }
   },
   "outputs": [
    {
     "data": {
      "image/png": "[encoded data removed]",
      "text/plain": [
       "<Figure size 1008x288 with 1 Axes>"
      ]
     },
     "metadata": {
      "needs_background": "light"
     },
     "output_type": "display_data"
    }
   ],
   "source": [
    "data.groupby(\"year-month\")[\"title\"].count().sort_index().plot(kind=\"bar\",\n",
    "                                                             figsize=(14, 4))\n",
    "plt.title(\"Articles by year-month\")\n",
    "plt.show()"
   ]
  },
  {
   "cell_type": "code",
   "execution_count": 7,
   "metadata": {
    "ExecuteTime": {
     "end_time": "2020-09-22T20:58:51.574648Z",
     "start_time": "2020-09-22T20:58:50.727835Z"
    }
   },
   "outputs": [
    {
     "data": {
      "image/png": "[encoded data removed]",
      "text/plain": [
       "<Figure size 1008x288 with 1 Axes>"
      ]
     },
     "metadata": {
      "needs_background": "light"
     },
     "output_type": "display_data"
    }
   ],
   "source": [
    "data[data[\"club\"] == \"flamengo\"].groupby(\"year-month\")[\"title\"].count().sort_index().plot(kind=\"bar\",\n",
    "                                                             figsize=(14, 4))\n",
    "plt.title(\"Articles by year-month\")\n",
    "plt.show()"
   ]
  },
  {
   "cell_type": "code",
   "execution_count": 8,
   "metadata": {
    "ExecuteTime": {
     "end_time": "2020-09-22T20:58:51.586860Z",
     "start_time": "2020-09-22T20:58:51.581979Z"
    }
   },
   "outputs": [],
   "source": [
    "# data[data[\"club\"] == \"internacional\"].groupby(\"year-month\")[\"title\"].count().sort_index().plot(kind=\"bar\",\n",
    "#                                                              figsize=(14, 4))\n",
    "# plt.title(\"Articles by year-month\")\n",
    "# plt.show()"
   ]
  },
  {
   "cell_type": "code",
   "execution_count": 9,
   "metadata": {
    "ExecuteTime": {
     "end_time": "2020-09-22T20:58:51.597780Z",
     "start_time": "2020-09-22T20:58:51.589796Z"
    }
   },
   "outputs": [],
   "source": [
    "# pd.set_option('display.max_columns', None)  # or 1000\n",
    "# pd.set_option('display.max_rows', None)  # or 1000\n",
    "# pd.set_option('display.max_colwidth', -1)  # or 199"
   ]
  },
  {
   "cell_type": "code",
   "execution_count": 10,
   "metadata": {
    "ExecuteTime": {
     "end_time": "2020-09-22T20:58:51.608224Z",
     "start_time": "2020-09-22T20:58:51.601003Z"
    },
    "scrolled": false
   },
   "outputs": [],
   "source": [
    "# data[(data[\"club\"] == \"internacional\") | (data[\"club\"] == \"flamengo\")].groupby([\"year-month\", \"club\"]).count()"
   ]
  },
  {
   "cell_type": "code",
   "execution_count": 11,
   "metadata": {
    "ExecuteTime": {
     "end_time": "2020-09-22T20:58:51.856988Z",
     "start_time": "2020-09-22T20:58:51.610679Z"
    }
   },
   "outputs": [
    {
     "data": {
      "text/plain": [
       "title\n",
       "Internacional lidera com o segundo menor aproveitamento da história dos pontos corridos                                  19\n",
       "Favoritismos #10: veja quais equipes têm mais chances de vencer na rodada do Brasileiro                                  19\n",
       "CBF divulga calendário do futebol brasileiro para 2021: competições não param durante Copa América                       19\n",
       "Número de expulsões em 2020 aumenta 126% com relação ao Brasileirão do ano passado                                       19\n",
       "Com estádios vazios, explode o número de cartões para membros de comissão técnica no Brasileirão                         19\n",
       "Favoritismos #11: veja quais equipes têm mais chances de vencer na rodada do Brasileiro                                  19\n",
       "Favoritismos #5: veja quais equipes têm mais chances de vencer na rodada do Brasileiro                                   19\n",
       "Favoritismos #6: veja quais equipes têm mais chances de vencer na rodada do Brasileiro                                   19\n",
       "Favoritismos #4: veja quais equipes têm mais chances de vencer na rodada do Brasileiro                                   18\n",
       "Com Dorival Júnior, Brasileirão tem quatro demissões de técnicos em cinco rodadas; veja a lista                          18\n",
       "Contraproposta de atletas rejeita corte de salários e pede garantias à CBF contra eventual calote                        17\n",
       "Ranking mostra desempenho de goleiros nos pênaltis contra eles em Brasileirões desde 2013                                16\n",
       "Favoritismos #7: veja quais equipes têm mais chances de vencer na rodada do Brasileiro                                   16\n",
       "Ranking do PVC: com duas derrotas, Flamengo se mantém na liderança; Atlético-MG sobe                                     16\n",
       "Veja quem seu time já contratou para 2020. Palmeiras, São Paulo e Flu seguem sem novos reforços                          15\n",
       "Veja números dos times da Série A em 2020. Maior aproveitamento é do Flamengo; Corinthians é o pior                      15\n",
       "Seu time usou as joias da Copa São Paulo? Levantamento mostra que chance no profissional é exceção                       15\n",
       "Favoritismos #28: Athletico, Bahia, Cruzeiro, Flamengo, Fluminense, Grêmio, Palmeiras, São Paulo e Vasco têm vantagem    14\n",
       "Coritiba e Fortaleza seguem sem gols após 3ª rodada, e Atlético-MG lidera; veja comparativo na Série A                   14\n",
       "Brasileirão 2020 tem 68% mais paradas para uso do VAR em comparação com a edição de 2019                                 14\n",
       "Palmeiras e Sport são os que menos perderam das Séries A e B em 2019; veja lista                                         14\n",
       "Flamengo, Internacional e Grêmio são times mais buscados no Google fora do Brasil em 2019; lista                         14\n",
       "Santos e Corinthians têm melhor aproveitamento pós-Copa América; Palmeiras é apenas o 13º                                14\n",
       "Ranking do PVC: Corinthians se junta ao Vasco na zona de rebaixamento; vídeo                                             14\n",
       "Os gols mais bonitos da história: veja o vencedor da enquete de cada clube e vote no melhor deles!                       14\n",
       "Opinião: se as torcidas não pararem com os gritos homofóbicos, o jogo deve parar                                         14\n",
       "Ranking mostra disciplina por média de cartões recebidos pelos times em Brasileirões desde 2013                          14\n",
       "Favoritismos #11: Corinthians, Internacional, Palmeiras e Vasco chegam com vantagem na rodada                            14\n",
       "Flamengo, Corinthians e São Paulo seguem na ponta do ranking digital de clubes; veja números                             13\n",
       "Flamengo é quem mais acerta nas contratações em 2019 entre times da Série A; veja as avaliações                          13\n",
       "                                                                                                                         ..\n",
       "Lucas Lima agenda reunião com Modesto para informar ida ao Palmeiras                                                      2\n",
       "Lucas Lima e Jean Mota se reencontram com momentos \"inversos\" em Palmeiras x Santos                                       2\n",
       "Liga emite nota sobre adiamento do clássico Vasco x Flamengo no NBB                                                       2\n",
       "Lucas Lima entra na mira de time chinês, espera Europa e vê Palmeiras de olho                                             2\n",
       "Luccas Claro revela conversas para renovação no Fluminense e \"perdão\" de Guerrero após lesão                              2\n",
       "Lucão abre o jogo: elogios de Carille, negociação com Corinthians, falhas e fim do ciclo no São Paulo                     2\n",
       "Luis Ricardo lamenta atitude de torcedor: \"Muito envergonhado\"                                                            2\n",
       "Luis Roberto: \"O futebol do Rio não pode continuar nesse marasmo\"                                                         2\n",
       "Luiz Ademar vê o São Paulo parecido com a Alemanha diante do Bahia                                                        2\n",
       "Luiz Fernando não se assusta com contratações do Flamengo: \"Dentro de campo é 11 contra 11\"                               2\n",
       "Londrina no embalo de Dagoberto, CSA em 8º e Figueira no Z-4: o returno da Série B                                        2\n",
       "Loffredo elogia Kaká e Robinho: \"Não estão jogando com o nome\"                                                            2\n",
       "Locutor da Arena Palmeiras anunciagol corintiano com \"cheirinho no ar\"                                                    2\n",
       "LoL: Flamengo e Santos anunciam amistosos com proplayers e convidados                                                     2\n",
       "Liminar do Flu bloqueia R$ 5 mi da venda de Diego Souza do Sport ao São Paulo                                             2\n",
       "Liminar obriga concessionária a reassumir administração do Maracanã                                                       2\n",
       "Liminar é mantida, e Fla-Flu da decisão da Taça GB terá torcida única tricolor                                            2\n",
       "Lindoso não vê desculpa sincera de Zé Rafael após Botafogo x Bahia: \"Pediu, mas não pediu\"                                2\n",
       "Lino elogia ousadia do Inter e critica acomodação do Flamengo após o gol                                                  2\n",
       "Lino não entende crise no Fluminense: \"É incrível o que se fez essa semana\"                                               2\n",
       "Lino: Fla salva ano se for campeão da Sul-Americana; Flu, se eliminar o rival                                             2\n",
       "Lista GE: Pedro Jr., Rafael Moura e outros heróis improváveis nos 110 anos de Gre-Nal                                     2\n",
       "Lista GE: cinco jogadores com mais expulsões que Felipe Melo desde a volta do volante ao Brasil                           2\n",
       "Lista GE: de Daltro Menezes a Tite, confira 11 técnicos que fizeram história em Grêmio e Inter                            2\n",
       "Lista GE: nove jogadores que fizeram gols pelos dois lados do Dérbi nos últimos 30 anos                                   2\n",
       "Lista GE: oito momentos marcantes em Corinthians x Flamengo no Brasileirão                                                2\n",
       "Lista GE: relembre 10 heróis improváveis em clássicos Corinthians x Palmeiras                                             2\n",
       "Lista de títulos dos campeões cearenses: Fortaleza diminui vantagem do Ceará; veja o ranking                              2\n",
       "Livro de crônicas de João Saldanha é lançado no Rio; semana terá homenagens                                               2\n",
       " \"Salah\" torcedor do Fluminense, “aquecimento” do Gabigol... Torcida brilha em Brasil x Nigéria                           2\n",
       "Name: club, Length: 5987, dtype: int64"
      ]
     },
     "execution_count": 11,
     "metadata": {},
     "output_type": "execute_result"
    }
   ],
   "source": [
    "agg = data.groupby(\"title\")[\"club\"].count() \n",
    "agg[agg > 1].sort_values(ascending=False)"
   ]
  },
  {
   "cell_type": "code",
   "execution_count": 12,
   "metadata": {
    "ExecuteTime": {
     "end_time": "2020-09-22T20:58:51.882318Z",
     "start_time": "2020-09-22T20:58:51.860399Z"
    }
   },
   "outputs": [
    {
     "data": {
      "text/plain": [
       "club\n",
       "athletico-pr      7040\n",
       "atletico-go       1632\n",
       "atletico-mg       4282\n",
       "bahia             2738\n",
       "botafogo          6356\n",
       "bragantino         964\n",
       "ceara             2370\n",
       "corinthians       9416\n",
       "coritiba          2064\n",
       "cruzeiro          3900\n",
       "flamengo         10338\n",
       "fluminense        6263\n",
       "fortaleza         2761\n",
       "goias             2749\n",
       "gremio            6170\n",
       "internacional     7931\n",
       "palmeiras         6898\n",
       "santos            5227\n",
       "sao-paulo         7876\n",
       "sport             2629\n",
       "vasco             2687\n",
       "Name: title, dtype: int64"
      ]
     },
     "execution_count": 12,
     "metadata": {},
     "output_type": "execute_result"
    }
   ],
   "source": [
    "data.groupby(\"club\")[\"title\"].count()"
   ]
  },
  {
   "cell_type": "code",
   "execution_count": 13,
   "metadata": {
    "ExecuteTime": {
     "end_time": "2020-09-22T20:58:51.954333Z",
     "start_time": "2020-09-22T20:58:51.884568Z"
    }
   },
   "outputs": [],
   "source": [
    "data = data.drop(columns=[\"date\"]).rename(columns={\"article_date\": \"date\", \n",
    "                                                   \"article_time\": \"time\", \n",
    "                                                   \"article_link\": \"link\",\n",
    "                                                   \"article_text\": \"text\"})"
   ]
  },
  {
   "cell_type": "code",
   "execution_count": 14,
   "metadata": {
    "ExecuteTime": {
     "end_time": "2020-09-22T20:58:52.001377Z",
     "start_time": "2020-09-22T20:58:51.957400Z"
    }
   },
   "outputs": [],
   "source": [
    "data = data[~pd.isnull(data[\"text\"])]"
   ]
  },
  {
   "cell_type": "code",
   "execution_count": 15,
   "metadata": {
    "ExecuteTime": {
     "end_time": "2020-09-22T20:58:52.008317Z",
     "start_time": "2020-09-22T20:58:52.003610Z"
    }
   },
   "outputs": [
    {
     "data": {
      "text/plain": [
       "(102290, 7)"
      ]
     },
     "execution_count": 15,
     "metadata": {},
     "output_type": "execute_result"
    }
   ],
   "source": [
    "data.shape"
   ]
  },
  {
   "cell_type": "code",
   "execution_count": 16,
   "metadata": {
    "ExecuteTime": {
     "end_time": "2020-09-22T20:58:52.026267Z",
     "start_time": "2020-09-22T20:58:52.011604Z"
    }
   },
   "outputs": [
    {
     "data": {
      "text/html": [
       "<div>\n",
       "<style scoped>\n",
       "    .dataframe tbody tr th:only-of-type {\n",
       "        vertical-align: middle;\n",
       "    }\n",
       "\n",
       "    .dataframe tbody tr th {\n",
       "        vertical-align: top;\n",
       "    }\n",
       "\n",
       "    .dataframe thead th {\n",
       "        text-align: right;\n",
       "    }\n",
       "</style>\n",
       "<table border=\"1\" class=\"dataframe\">\n",
       "  <thead>\n",
       "    <tr style=\"text-align: right;\">\n",
       "      <th></th>\n",
       "      <th>title</th>\n",
       "      <th>text</th>\n",
       "      <th>link</th>\n",
       "      <th>club</th>\n",
       "      <th>time</th>\n",
       "      <th>date</th>\n",
       "      <th>year-month</th>\n",
       "    </tr>\n",
       "  </thead>\n",
       "  <tbody>\n",
       "    <tr>\n",
       "      <th>0</th>\n",
       "      <td>Conmebol divulga tabela detalhada da pré e da ...</td>\n",
       "      <td>Argentinos são destaques no caminho dos brasi...</td>\n",
       "      <td>https://globoesporte.globo.com/futebol/liberta...</td>\n",
       "      <td>athletico-pr</td>\n",
       "      <td>10h04</td>\n",
       "      <td>22/12/2017</td>\n",
       "      <td>2017-12</td>\n",
       "    </tr>\n",
       "    <tr>\n",
       "      <th>0</th>\n",
       "      <td>Com assistência, Demethryus recebe elogios no ...</td>\n",
       "      <td>O meia Demethryus conseguiu aproveitar bem a ...</td>\n",
       "      <td>https://globoesporte.globo.com/pr/futebol/time...</td>\n",
       "      <td>athletico-pr</td>\n",
       "      <td>08h00</td>\n",
       "      <td>11/02/2018</td>\n",
       "      <td>2018-02</td>\n",
       "    </tr>\n",
       "    <tr>\n",
       "      <th>0</th>\n",
       "      <td>Alô, cartoleiros! Atlético-PR passa limpo cont...</td>\n",
       "      <td>O atacante Marcelo Cirino, desfalque já nos ú...</td>\n",
       "      <td>https://globoesporte.globo.com/pr/futebol/time...</td>\n",
       "      <td>athletico-pr</td>\n",
       "      <td>22h17</td>\n",
       "      <td>13/09/2018</td>\n",
       "      <td>2018-09</td>\n",
       "    </tr>\n",
       "    <tr>\n",
       "      <th>0</th>\n",
       "      <td>Athletico mantém o projeto de torcida única e ...</td>\n",
       "      <td>O Athletico também divulgou o preço dos ingre...</td>\n",
       "      <td>https://globoesporte.globo.com/pr/futebol/time...</td>\n",
       "      <td>athletico-pr</td>\n",
       "      <td>14h54</td>\n",
       "      <td>16/01/2019</td>\n",
       "      <td>2019-01</td>\n",
       "    </tr>\n",
       "    <tr>\n",
       "      <th>0</th>\n",
       "      <td>Atlético-PR peca na pontaria e chega a 11 jogo...</td>\n",
       "      <td>O volante Bruno Guimarães finalizou uma vez, ...</td>\n",
       "      <td>https://globoesporte.globo.com/pr/futebol/time...</td>\n",
       "      <td>athletico-pr</td>\n",
       "      <td>08h30</td>\n",
       "      <td>21/10/2018</td>\n",
       "      <td>2018-10</td>\n",
       "    </tr>\n",
       "  </tbody>\n",
       "</table>\n",
       "</div>"
      ],
      "text/plain": [
       "                                               title  \\\n",
       "0  Conmebol divulga tabela detalhada da pré e da ...   \n",
       "0  Com assistência, Demethryus recebe elogios no ...   \n",
       "0  Alô, cartoleiros! Atlético-PR passa limpo cont...   \n",
       "0  Athletico mantém o projeto de torcida única e ...   \n",
       "0  Atlético-PR peca na pontaria e chega a 11 jogo...   \n",
       "\n",
       "                                                text  \\\n",
       "0   Argentinos são destaques no caminho dos brasi...   \n",
       "0   O meia Demethryus conseguiu aproveitar bem a ...   \n",
       "0   O atacante Marcelo Cirino, desfalque já nos ú...   \n",
       "0   O Athletico também divulgou o preço dos ingre...   \n",
       "0   O volante Bruno Guimarães finalizou uma vez, ...   \n",
       "\n",
       "                                                link          club   time  \\\n",
       "0  https://globoesporte.globo.com/futebol/liberta...  athletico-pr  10h04   \n",
       "0  https://globoesporte.globo.com/pr/futebol/time...  athletico-pr  08h00   \n",
       "0  https://globoesporte.globo.com/pr/futebol/time...  athletico-pr  22h17   \n",
       "0  https://globoesporte.globo.com/pr/futebol/time...  athletico-pr  14h54   \n",
       "0  https://globoesporte.globo.com/pr/futebol/time...  athletico-pr  08h30   \n",
       "\n",
       "         date year-month  \n",
       "0  22/12/2017    2017-12  \n",
       "0  11/02/2018    2018-02  \n",
       "0  13/09/2018    2018-09  \n",
       "0  16/01/2019    2019-01  \n",
       "0  21/10/2018    2018-10  "
      ]
     },
     "execution_count": 16,
     "metadata": {},
     "output_type": "execute_result"
    }
   ],
   "source": [
    "data.head()"
   ]
  },
  {
   "cell_type": "code",
   "execution_count": 19,
   "metadata": {
    "ExecuteTime": {
     "end_time": "2020-09-22T21:53:46.805707Z",
     "start_time": "2020-09-22T21:53:39.436084Z"
    }
   },
   "outputs": [],
   "source": [
    "data[[\"date\", \"time\", \"title\", \"text\", \"link\", \"club\"]].to_csv(\"/Users/lgmoneda/Documents/datasets/ge_news/data/ge_news.csv\", index=False)"
   ]
  },
  {
   "cell_type": "code",
   "execution_count": null,
   "metadata": {},
   "outputs": [],
   "source": []
  },
  {
   "cell_type": "code",
   "execution_count": null,
   "metadata": {},
   "outputs": [],
   "source": []
  },
  {
   "cell_type": "code",
   "execution_count": null,
   "metadata": {},
   "outputs": [],
   "source": []
  }
 ],
 "metadata": {
  "hide_input": false,
  "kernelspec": {
   "display_name": "nu",
   "language": "python",
   "name": "python3"
  },
  "language_info": {
   "codemirror_mode": {
    "name": "ipython",
    "version": 3
   },
   "file_extension": ".py",
   "mimetype": "text/x-python",
   "name": "python",
   "nbconvert_exporter": "python",
   "pygments_lexer": "ipython3",
   "version": "3.6.10"
  },
  "toc": {
   "base_numbering": 1,
   "nav_menu": {},
   "number_sections": true,
   "sideBar": true,
   "skip_h1_title": true,
   "title_cell": "Index",
   "title_sidebar": "Contents",
   "toc_cell": true,
   "toc_position": {},
   "toc_section_display": true,
   "toc_window_display": false
  }
 },
 "nbformat": 4,
 "nbformat_minor": 2
}
