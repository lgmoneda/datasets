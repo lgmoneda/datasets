{
 "cells": [
  {
   "cell_type": "markdown",
   "metadata": {
    "toc": true
   },
   "source": [
    "<h1>Index<span class=\"tocSkip\"></span></h1>\n",
    "<div class=\"toc\"><ul class=\"toc-item\"></ul></div>"
   ]
  },
  {
   "cell_type": "markdown",
   "metadata": {},
   "source": [
    "# Data Aggregation\n",
    "\n",
    "Put together all teams data in a single dataset."
   ]
  },
  {
   "cell_type": "code",
   "execution_count": 1,
   "metadata": {
    "ExecuteTime": {
     "end_time": "2021-02-28T13:18:47.913753Z",
     "start_time": "2021-02-28T13:18:45.633520Z"
    }
   },
   "outputs": [],
   "source": [
    "import pandas as pd\n",
    "import os\n",
    "import glob\n",
    "import matplotlib.pyplot as plt"
   ]
  },
  {
   "cell_type": "code",
   "execution_count": 2,
   "metadata": {
    "ExecuteTime": {
     "end_time": "2021-02-28T13:18:47.930806Z",
     "start_time": "2021-02-28T13:18:47.918287Z"
    }
   },
   "outputs": [],
   "source": [
    "SAVING_PATH = \"/Users/lgmoneda/Documents/datasets/ge_news\"\n",
    "def get_all_files_in_a_folder(team, full=False):\n",
    "    path = \"{}/data/{}\".format(SAVING_PATH, team)\n",
    "    \n",
    "    files = [f for f in glob.glob(path + \"**/*.csv\", recursive=True)]\n",
    "    \n",
    "    if not full:\n",
    "        files = [file.replace(path + \"/\", \"\") for file in files]\n",
    "        files = [file.replace(\".csv\", \"\") for file in files]\n",
    "    \n",
    "    return files\n",
    "\n",
    "def aggregate_all_saved_sections_from_zones_files(team):\n",
    "    files = get_all_files_in_a_folder(team, full=True)\n",
    "    \n",
    "    all_dataframes = []\n",
    "    for file in files:\n",
    "        all_dataframes.append(pd.read_csv(file))\n",
    "        \n",
    "    return add_team_column(pd.concat(all_dataframes), team)\n",
    "\n",
    "def add_team_column(data, team):\n",
    "    data[\"club\"] = team\n",
    "    return data"
   ]
  },
  {
   "cell_type": "code",
   "execution_count": 3,
   "metadata": {
    "ExecuteTime": {
     "end_time": "2021-02-28T13:26:31.288633Z",
     "start_time": "2021-02-28T13:18:47.937474Z"
    }
   },
   "outputs": [],
   "source": [
    "teams = [\"athletico-pr\", \"atletico-go\", \"atletico-mg\",\n",
    "         \"bahia\", \"bragantino\", \"botafogo\", \"ceara\",\n",
    "         \"corinthians\", \"coritiba\", \"flamengo\", \"fluminense\", \n",
    "         \"fortaleza\", \"goias\", \"gremio\", \"internacional\", \n",
    "         \"palmeiras\", \"santos\", \"sao-paulo\", \"sport\", \"vasco\", \"cruzeiro\"]\n",
    "    \n",
    "teams_dataframes = [aggregate_all_saved_sections_from_zones_files(team) for team in teams]\n",
    "data = pd.concat(teams_dataframes)\n",
    "data[\"article_time\"] = data[\"date\"].apply(lambda x: x.strip().split(\" \")[1] if not pd.isnull(x) else x)\n",
    "data[\"article_date\"] = data[\"date\"].apply(lambda x: x.strip().split(\" \")[0] if not pd.isnull(x) else x)\n"
   ]
  },
  {
   "cell_type": "code",
   "execution_count": 4,
   "metadata": {
    "ExecuteTime": {
     "end_time": "2021-02-28T13:26:31.305134Z",
     "start_time": "2021-02-28T13:26:31.292966Z"
    }
   },
   "outputs": [
    {
     "data": {
      "text/plain": [
       "(121950, 7)"
      ]
     },
     "execution_count": 4,
     "metadata": {},
     "output_type": "execute_result"
    }
   ],
   "source": [
    "### 111484\n",
    "data.shape"
   ]
  },
  {
   "cell_type": "code",
   "execution_count": 5,
   "metadata": {
    "ExecuteTime": {
     "end_time": "2021-02-28T13:26:31.525138Z",
     "start_time": "2021-02-28T13:26:31.313609Z"
    }
   },
   "outputs": [],
   "source": [
    "data[\"year-month\"] = data[\"article_date\"].apply(lambda x: x.split(\"/\")[-1] + \"-\" + x.split(\"/\")[1])"
   ]
  },
  {
   "cell_type": "code",
   "execution_count": 6,
   "metadata": {
    "ExecuteTime": {
     "end_time": "2021-02-28T13:26:33.440104Z",
     "start_time": "2021-02-28T13:26:31.532126Z"
    }
   },
   "outputs": [
    {
     "data": {
      "image/png": "[encoded data removed]",
      "text/plain": [
       "<Figure size 1008x288 with 1 Axes>"
      ]
     },
     "metadata": {
      "needs_background": "light"
     },
     "output_type": "display_data"
    }
   ],
   "source": [
    "data.groupby(\"year-month\")[\"title\"].count().sort_index().plot(kind=\"bar\",\n",
    "                                                             figsize=(14, 4))\n",
    "plt.title(\"Articles by year-month\")\n",
    "plt.show()"
   ]
  },
  {
   "cell_type": "code",
   "execution_count": 7,
   "metadata": {
    "ExecuteTime": {
     "end_time": "2021-02-28T13:26:34.885316Z",
     "start_time": "2021-02-28T13:26:33.444663Z"
    }
   },
   "outputs": [
    {
     "data": {
      "image/png": "[encoded data removed]",
      "text/plain": [
       "<Figure size 1008x288 with 1 Axes>"
      ]
     },
     "metadata": {
      "needs_background": "light"
     },
     "output_type": "display_data"
    }
   ],
   "source": [
    "data[data[\"club\"] == \"flamengo\"].groupby(\"year-month\")[\"title\"].count().sort_index().plot(kind=\"bar\",\n",
    "                                                             figsize=(14, 4))\n",
    "plt.title(\"Articles by year-month\")\n",
    "plt.show()"
   ]
  },
  {
   "cell_type": "code",
   "execution_count": 8,
   "metadata": {
    "ExecuteTime": {
     "end_time": "2021-02-28T13:26:34.898960Z",
     "start_time": "2021-02-28T13:26:34.891003Z"
    }
   },
   "outputs": [],
   "source": [
    "# data[data[\"club\"] == \"internacional\"].groupby(\"year-month\")[\"title\"].count().sort_index().plot(kind=\"bar\",\n",
    "#                                                              figsize=(14, 4))\n",
    "# plt.title(\"Articles by year-month\")\n",
    "# plt.show()"
   ]
  },
  {
   "cell_type": "code",
   "execution_count": 9,
   "metadata": {
    "ExecuteTime": {
     "end_time": "2021-02-28T13:26:34.909338Z",
     "start_time": "2021-02-28T13:26:34.903139Z"
    }
   },
   "outputs": [],
   "source": [
    "# pd.set_option('display.max_columns', None)  # or 1000\n",
    "# pd.set_option('display.max_rows', None)  # or 1000\n",
    "# pd.set_option('display.max_colwidth', -1)  # or 199"
   ]
  },
  {
   "cell_type": "code",
   "execution_count": 10,
   "metadata": {
    "ExecuteTime": {
     "end_time": "2021-02-28T13:26:34.922311Z",
     "start_time": "2021-02-28T13:26:34.918468Z"
    },
    "scrolled": false
   },
   "outputs": [],
   "source": [
    "# data[(data[\"club\"] == \"internacional\") | (data[\"club\"] == \"flamengo\")].groupby([\"year-month\", \"club\"]).count()"
   ]
  },
  {
   "cell_type": "code",
   "execution_count": 11,
   "metadata": {
    "ExecuteTime": {
     "end_time": "2021-02-28T13:26:34.933458Z",
     "start_time": "2021-02-28T13:26:34.928184Z"
    }
   },
   "outputs": [],
   "source": [
    "# agg = data.groupby(\"title\")[\"club\"].count() \n",
    "# agg[agg > 1].sort_values(ascending=False)"
   ]
  },
  {
   "cell_type": "code",
   "execution_count": 12,
   "metadata": {
    "ExecuteTime": {
     "end_time": "2021-02-28T13:26:34.977875Z",
     "start_time": "2021-02-28T13:26:34.938425Z"
    }
   },
   "outputs": [
    {
     "data": {
      "text/plain": [
       "club\n",
       "athletico-pr      7784\n",
       "atletico-go       2137\n",
       "atletico-mg       5574\n",
       "bahia             3690\n",
       "botafogo          7275\n",
       "bragantino        1530\n",
       "ceara             3193\n",
       "corinthians      10801\n",
       "coritiba          2807\n",
       "cruzeiro          5146\n",
       "flamengo         11705\n",
       "fluminense        7374\n",
       "fortaleza         3566\n",
       "goias             3215\n",
       "gremio            7290\n",
       "internacional     9095\n",
       "palmeiras         8251\n",
       "santos            5272\n",
       "sao-paulo         9090\n",
       "sport             3453\n",
       "vasco             3702\n",
       "Name: title, dtype: int64"
      ]
     },
     "execution_count": 12,
     "metadata": {},
     "output_type": "execute_result"
    }
   ],
   "source": [
    "data.groupby(\"club\")[\"title\"].count()"
   ]
  },
  {
   "cell_type": "code",
   "execution_count": 13,
   "metadata": {
    "ExecuteTime": {
     "end_time": "2021-02-28T13:26:35.085698Z",
     "start_time": "2021-02-28T13:26:34.982673Z"
    }
   },
   "outputs": [],
   "source": [
    "data = data.drop(columns=[\"date\"]).rename(columns={\"article_date\": \"date\", \n",
    "                                                   \"article_time\": \"time\", \n",
    "                                                   \"article_link\": \"link\",\n",
    "                                                   \"article_text\": \"text\"})"
   ]
  },
  {
   "cell_type": "code",
   "execution_count": 14,
   "metadata": {
    "ExecuteTime": {
     "end_time": "2021-02-28T13:26:35.151767Z",
     "start_time": "2021-02-28T13:26:35.089846Z"
    }
   },
   "outputs": [],
   "source": [
    "data = data[~pd.isnull(data[\"text\"])]"
   ]
  },
  {
   "cell_type": "code",
   "execution_count": 15,
   "metadata": {
    "ExecuteTime": {
     "end_time": "2021-02-28T13:26:35.163657Z",
     "start_time": "2021-02-28T13:26:35.155556Z"
    }
   },
   "outputs": [
    {
     "data": {
      "text/plain": [
       "(121949, 7)"
      ]
     },
     "execution_count": 15,
     "metadata": {},
     "output_type": "execute_result"
    }
   ],
   "source": [
    "data.shape"
   ]
  },
  {
   "cell_type": "code",
   "execution_count": 16,
   "metadata": {
    "ExecuteTime": {
     "end_time": "2021-02-28T13:26:35.194693Z",
     "start_time": "2021-02-28T13:26:35.168467Z"
    }
   },
   "outputs": [
    {
     "data": {
      "text/html": [
       "<div>\n",
       "<style scoped>\n",
       "    .dataframe tbody tr th:only-of-type {\n",
       "        vertical-align: middle;\n",
       "    }\n",
       "\n",
       "    .dataframe tbody tr th {\n",
       "        vertical-align: top;\n",
       "    }\n",
       "\n",
       "    .dataframe thead th {\n",
       "        text-align: right;\n",
       "    }\n",
       "</style>\n",
       "<table border=\"1\" class=\"dataframe\">\n",
       "  <thead>\n",
       "    <tr style=\"text-align: right;\">\n",
       "      <th></th>\n",
       "      <th>title</th>\n",
       "      <th>text</th>\n",
       "      <th>link</th>\n",
       "      <th>club</th>\n",
       "      <th>time</th>\n",
       "      <th>date</th>\n",
       "      <th>year-month</th>\n",
       "    </tr>\n",
       "  </thead>\n",
       "  <tbody>\n",
       "    <tr>\n",
       "      <th>0</th>\n",
       "      <td>Conmebol divulga tabela detalhada da pré e da ...</td>\n",
       "      <td>Argentinos são destaques no caminho dos brasi...</td>\n",
       "      <td>https://globoesporte.globo.com/futebol/liberta...</td>\n",
       "      <td>athletico-pr</td>\n",
       "      <td>10h04</td>\n",
       "      <td>22/12/2017</td>\n",
       "      <td>2017-12</td>\n",
       "    </tr>\n",
       "    <tr>\n",
       "      <th>0</th>\n",
       "      <td>Com assistência, Demethryus recebe elogios no ...</td>\n",
       "      <td>O meia Demethryus conseguiu aproveitar bem a ...</td>\n",
       "      <td>https://globoesporte.globo.com/pr/futebol/time...</td>\n",
       "      <td>athletico-pr</td>\n",
       "      <td>08h00</td>\n",
       "      <td>11/02/2018</td>\n",
       "      <td>2018-02</td>\n",
       "    </tr>\n",
       "    <tr>\n",
       "      <th>0</th>\n",
       "      <td>Athletico confirma fim de contrato com Welling...</td>\n",
       "      <td>A reportagem do ge já havia adiantado que as ...</td>\n",
       "      <td>https://globoesporte.globo.com/pr/futebol/time...</td>\n",
       "      <td>athletico-pr</td>\n",
       "      <td>12h48</td>\n",
       "      <td>18/12/2020</td>\n",
       "      <td>2020-12</td>\n",
       "    </tr>\n",
       "    <tr>\n",
       "      <th>0</th>\n",
       "      <td>Alô, cartoleiros! Atlético-PR passa limpo cont...</td>\n",
       "      <td>O atacante Marcelo Cirino, desfalque já nos ú...</td>\n",
       "      <td>https://globoesporte.globo.com/pr/futebol/time...</td>\n",
       "      <td>athletico-pr</td>\n",
       "      <td>22h17</td>\n",
       "      <td>13/09/2018</td>\n",
       "      <td>2018-09</td>\n",
       "    </tr>\n",
       "    <tr>\n",
       "      <th>0</th>\n",
       "      <td>Athletico mantém o projeto de torcida única e ...</td>\n",
       "      <td>O Athletico também divulgou o preço dos ingre...</td>\n",
       "      <td>https://globoesporte.globo.com/pr/futebol/time...</td>\n",
       "      <td>athletico-pr</td>\n",
       "      <td>14h54</td>\n",
       "      <td>16/01/2019</td>\n",
       "      <td>2019-01</td>\n",
       "    </tr>\n",
       "  </tbody>\n",
       "</table>\n",
       "</div>"
      ],
      "text/plain": [
       "                                               title  \\\n",
       "0  Conmebol divulga tabela detalhada da pré e da ...   \n",
       "0  Com assistência, Demethryus recebe elogios no ...   \n",
       "0  Athletico confirma fim de contrato com Welling...   \n",
       "0  Alô, cartoleiros! Atlético-PR passa limpo cont...   \n",
       "0  Athletico mantém o projeto de torcida única e ...   \n",
       "\n",
       "                                                text  \\\n",
       "0   Argentinos são destaques no caminho dos brasi...   \n",
       "0   O meia Demethryus conseguiu aproveitar bem a ...   \n",
       "0   A reportagem do ge já havia adiantado que as ...   \n",
       "0   O atacante Marcelo Cirino, desfalque já nos ú...   \n",
       "0   O Athletico também divulgou o preço dos ingre...   \n",
       "\n",
       "                                                link          club   time  \\\n",
       "0  https://globoesporte.globo.com/futebol/liberta...  athletico-pr  10h04   \n",
       "0  https://globoesporte.globo.com/pr/futebol/time...  athletico-pr  08h00   \n",
       "0  https://globoesporte.globo.com/pr/futebol/time...  athletico-pr  12h48   \n",
       "0  https://globoesporte.globo.com/pr/futebol/time...  athletico-pr  22h17   \n",
       "0  https://globoesporte.globo.com/pr/futebol/time...  athletico-pr  14h54   \n",
       "\n",
       "         date year-month  \n",
       "0  22/12/2017    2017-12  \n",
       "0  11/02/2018    2018-02  \n",
       "0  18/12/2020    2020-12  \n",
       "0  13/09/2018    2018-09  \n",
       "0  16/01/2019    2019-01  "
      ]
     },
     "execution_count": 16,
     "metadata": {},
     "output_type": "execute_result"
    }
   ],
   "source": [
    "data.head()"
   ]
  },
  {
   "cell_type": "code",
   "execution_count": 17,
   "metadata": {
    "ExecuteTime": {
     "end_time": "2021-02-28T13:26:49.095306Z",
     "start_time": "2021-02-28T13:26:35.200031Z"
    }
   },
   "outputs": [],
   "source": [
    "data[[\"date\", \"time\", \"title\", \"text\", \"link\", \"club\"]].to_csv(\"/Users/lgmoneda/Documents/datasets/ge_news/data/ge_news.csv\", index=False)"
   ]
  },
  {
   "cell_type": "code",
   "execution_count": null,
   "metadata": {},
   "outputs": [],
   "source": []
  },
  {
   "cell_type": "code",
   "execution_count": null,
   "metadata": {},
   "outputs": [],
   "source": []
  },
  {
   "cell_type": "code",
   "execution_count": null,
   "metadata": {},
   "outputs": [],
   "source": []
  }
 ],
 "metadata": {
  "hide_input": false,
  "kernelspec": {
   "display_name": "nu",
   "language": "python",
   "name": "python3"
  },
  "language_info": {
   "codemirror_mode": {
    "name": "ipython",
    "version": 3
   },
   "file_extension": ".py",
   "mimetype": "text/x-python",
   "name": "python",
   "nbconvert_exporter": "python",
   "pygments_lexer": "ipython3",
   "version": "3.6.10"
  },
  "toc": {
   "base_numbering": 1,
   "nav_menu": {},
   "number_sections": true,
   "sideBar": true,
   "skip_h1_title": true,
   "title_cell": "Index",
   "title_sidebar": "Contents",
   "toc_cell": true,
   "toc_position": {},
   "toc_section_display": true,
   "toc_window_display": false
  }
 },
 "nbformat": 4,
 "nbformat_minor": 2
}
