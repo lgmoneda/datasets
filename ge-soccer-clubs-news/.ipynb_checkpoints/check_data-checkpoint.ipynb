{
 "cells": [
  {
   "cell_type": "markdown",
   "metadata": {
    "toc": true
   },
   "source": [
    "<h1>Index<span class=\"tocSkip\"></span></h1>\n",
    "<div class=\"toc\"><ul class=\"toc-item\"></ul></div>"
   ]
  },
  {
   "cell_type": "code",
   "execution_count": 1,
   "metadata": {
    "ExecuteTime": {
     "end_time": "2020-08-08T09:04:25.914301Z",
     "start_time": "2020-08-08T09:04:23.856280Z"
    }
   },
   "outputs": [],
   "source": [
    "import pandas as pd\n",
    "import os\n",
    "import glob\n",
    "import matplotlib.pyplot as plt"
   ]
  },
  {
   "cell_type": "code",
   "execution_count": 2,
   "metadata": {
    "ExecuteTime": {
     "end_time": "2020-08-08T09:04:25.923396Z",
     "start_time": "2020-08-08T09:04:25.916773Z"
    }
   },
   "outputs": [],
   "source": [
    "def get_all_files_in_a_folder(team, full=False):\n",
    "    path = \"data/{}\".format(team)\n",
    "    \n",
    "    files = [f for f in glob.glob(path + \"**/*.csv\", recursive=True)]\n",
    "    \n",
    "    if not full:\n",
    "        files = [file.replace(path + \"/\", \"\") for file in files]\n",
    "        files = [file.replace(\".csv\", \"\") for file in files]\n",
    "    \n",
    "    return files\n",
    "\n",
    "def aggregate_all_saved_sections_from_zones_files(team):\n",
    "    files = get_all_files_in_a_folder(team, full=True)\n",
    "    \n",
    "    all_dataframes = []\n",
    "    for file in files:\n",
    "        all_dataframes.append(pd.read_csv(file))\n",
    "        \n",
    "    return pd.concat(all_dataframes)"
   ]
  },
  {
   "cell_type": "code",
   "execution_count": 9,
   "metadata": {
    "ExecuteTime": {
     "end_time": "2020-08-08T09:06:02.679058Z",
     "start_time": "2020-08-08T09:05:44.766552Z"
    }
   },
   "outputs": [],
   "source": [
    "team = \"flamengo\"\n",
    "data = aggregate_all_saved_sections_from_zones_files(team)\n",
    "data[\"article_time\"] = data[\"date\"].apply(lambda x: x.strip().split(\" \")[1] if not pd.isnull(x) else x)\n",
    "data[\"article_date\"] = data[\"date\"].apply(lambda x: x.strip().split(\" \")[0] if not pd.isnull(x) else x)\n"
   ]
  },
  {
   "cell_type": "code",
   "execution_count": 10,
   "metadata": {
    "ExecuteTime": {
     "end_time": "2020-08-08T09:06:02.686316Z",
     "start_time": "2020-08-08T09:06:02.681556Z"
    }
   },
   "outputs": [
    {
     "data": {
      "text/plain": [
       "(6412, 6)"
      ]
     },
     "execution_count": 10,
     "metadata": {},
     "output_type": "execute_result"
    }
   ],
   "source": [
    "data.shape"
   ]
  },
  {
   "cell_type": "code",
   "execution_count": 11,
   "metadata": {
    "ExecuteTime": {
     "end_time": "2020-08-08T09:06:02.708266Z",
     "start_time": "2020-08-08T09:06:02.689916Z"
    }
   },
   "outputs": [],
   "source": [
    "data[\"year-month\"] = data[\"article_date\"].apply(lambda x: x.split(\"/\")[-1] + \"-\" + x.split(\"/\")[1])"
   ]
  },
  {
   "cell_type": "code",
   "execution_count": 12,
   "metadata": {
    "ExecuteTime": {
     "end_time": "2020-08-08T09:06:03.648161Z",
     "start_time": "2020-08-08T09:06:02.715338Z"
    }
   },
   "outputs": [
    {
     "data": {
      "image/png": "[encoded data removed]",
      "text/plain": [
       "<Figure size 1008x288 with 1 Axes>"
      ]
     },
     "metadata": {
      "needs_background": "light"
     },
     "output_type": "display_data"
    }
   ],
   "source": [
    "data.groupby(\"year-month\")[\"title\"].count().sort_index().plot(kind=\"bar\",\n",
    "                                                             figsize=(14, 4))\n",
    "plt.title(\"Articles by year-month\")\n",
    "plt.show()"
   ]
  },
  {
   "cell_type": "code",
   "execution_count": null,
   "metadata": {},
   "outputs": [],
   "source": []
  }
 ],
 "metadata": {
  "hide_input": false,
  "kernelspec": {
   "display_name": "nu",
   "language": "python",
   "name": "python3"
  },
  "language_info": {
   "codemirror_mode": {
    "name": "ipython",
    "version": 3
   },
   "file_extension": ".py",
   "mimetype": "text/x-python",
   "name": "python",
   "nbconvert_exporter": "python",
   "pygments_lexer": "ipython3",
   "version": "3.6.10"
  },
  "toc": {
   "base_numbering": 1,
   "nav_menu": {},
   "number_sections": true,
   "sideBar": true,
   "skip_h1_title": true,
   "title_cell": "Index",
   "title_sidebar": "Contents",
   "toc_cell": true,
   "toc_position": {},
   "toc_section_display": true,
   "toc_window_display": false
  }
 },
 "nbformat": 4,
 "nbformat_minor": 2
}
